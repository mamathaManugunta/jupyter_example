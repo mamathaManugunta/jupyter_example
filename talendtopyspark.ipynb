{
 "cells": [
  {
   "cell_type": "code",
   "execution_count": null,
   "id": "cdcbcf93-9a57-44a9-b161-f066cdbe5220",
   "metadata": {},
   "outputs": [
    {
     "ename": "",
     "evalue": "",
     "output_type": "error",
     "traceback": [
      "\u001b[1;31mRunning cells with 'Python 3.11.9' requires the ipykernel package.\n",
      "\u001b[1;31mRun the following command to install 'ipykernel' into the Python environment. \n",
      "\u001b[1;31mCommand: 'c:/Users/MManugunta/AppData/Local/Microsoft/WindowsApps/python3.11.exe -m pip install ipykernel -U --user --force-reinstall'"
     ]
    }
   ],
   "source": [
    "#IMPORTING NECESSARY LIBRARIES\n",
    "from pyspark.sql import SparkSession\n",
    "import mysql.connector\n",
    "import requests\n",
    "import pyspark.sql.functions as F\n",
    "from pyspark.sql import *  \n",
    "import logging\n",
    "import os \n",
    "\n",
    "\n"
   ]
  },
  {
   "cell_type": "code",
   "execution_count": 99,
   "id": "4c5b7e81-97d8-4bb8-8dc9-f74fafbe346f",
   "metadata": {},
   "outputs": [],
   "source": [
    "#CONFIGURE SPARK SESSION\n",
    "spark = SparkSession.builder \\\n",
    "    .appName(\"ReadMySQLTable\") \\\n",
    "    .config(\"spark.jars\", \"/usr/share/java/mysql-connector-java-9.1.0.jar\") \\\n",
    "    .getOrCreate()"
   ]
  },
  {
   "cell_type": "code",
   "execution_count": 100,
   "id": "3d17c709-bed0-4808-9d3c-565b25106bdf",
   "metadata": {},
   "outputs": [],
   "source": [
    "# Define context variables\n",
    "context = {\n",
    "    \"mysql_server\": \"10.11.12.125\",\n",
    "    \"mysql_port\": \"3306\",\n",
    "    \"mysql_database\": \"PPMWeb_Prod_22_Oct_2024\",\n",
    "    \"mysql_user\": \"teamuser\",\n",
    "    \"mysql_password\": \"sigma5678\",\n",
    "    \"import_files_dir\": \"/home/innv1admn/ppminput/csv/\",\n",
    "    \"ImportFilesDir\": \"D:/MyProjects/Official/ETL/PROJECTOR_PPM/InputFiles/\",\n",
    "    \"OutputFilesDir\": \"D:/MyProjects/Official/ETL/PROJECTOR_PPM/OutputFiles/\",\n",
    "    \"ppmdb_Server\": \"10.11.12.125\",\n",
    "    \"ppmdb_Port\": \"3306\",\n",
    "    \"ppmdb_Database\": \"PPMWeb_Prod_22_Oct_2024\",\n",
    "    \"ppmdb_Login\": \"teamuser\",\n",
    "    \"ppmdb_Password\": \"sigma5678\"\n",
    "}"
   ]
  },
  {
   "cell_type": "code",
   "execution_count": 101,
   "id": "f90a2bfd-7af9-42d7-9b44-da75df5ba1da",
   "metadata": {},
   "outputs": [],
   "source": [
    "# Establish MySQL connection\n",
    "jdbc_url = f\"jdbc:mysql://{context['mysql_server']}:{context['mysql_port']}/{context['mysql_database']}\"\n",
    "connection_properties = {\n",
    "    \"user\": context[\"mysql_user\"],\n",
    "    \"password\": context[\"mysql_password\"],\n",
    "    \"driver\": \"com.mysql.cj.jdbc.Driver\"\n",
    "}"
   ]
  },
  {
   "cell_type": "code",
   "execution_count": 102,
   "id": "891613f6-2701-4947-a05d-e76802690f6b",
   "metadata": {},
   "outputs": [],
   "source": [
    "db_connection = mysql.connector.connect(\n",
    "    host=context[\"ppmdb_Server\"],\n",
    "    port=context[\"ppmdb_Port\"],\n",
    "    database=context[\"ppmdb_Database\"],\n",
    "    user=context[\"ppmdb_Login\"],\n",
    "    password=context[\"ppmdb_Password\"]\n",
    ")\n"
   ]
  },
  {
   "cell_type": "code",
   "execution_count": 105,
   "id": "7f3e4cc9-a06d-4e91-9483-6eca1d14d327",
   "metadata": {},
   "outputs": [],
   "source": [
    "# Fetch CSV File from URL\n",
    "url = \"https://app.projectorpsa.com/report/code/ProjectorPPMAccountList?format=csv&columnheaders=firstrow&UserName=bala.peddi@prolifics.com&Password=Mylife@2024\"\n",
    "response = requests.get(url)\n",
    "csv_file_path = f\"{context['import_files_dir']}/projectorAccounts.csv\"\n",
    "with open(csv_file_path, 'wb') as file:\n",
    "    file.write(response.content)"
   ]
  },
  {
   "cell_type": "markdown",
   "id": "5f9898ae-0116-4d41-b61b-4bdada81706c",
   "metadata": {},
   "source": [
    "<span style=\"color:red\"> <b>changes made in below cell<b> </span><br>\n",
    "<span style=\"color: green\"> column names are renamed by removing the space between words like below</span><br>\n",
    "<span style=\"color:blue\"> Project Location ---->ProjectLocation</span><br>\n",
    "<span style=\"color:blue\"> Client Industry---->ClientIndustry</span><br>\n",
    "<span style=\"color:blue\"> Client SFA URL---->ClientSFAURL</span><br>\n",
    "<span style=\"color:blue\"> Client Inactive (Yes/No) ---->ClientInactive</span><br>\n",
    "<span style=\"color:blue\"> Client Number ---->ClientNumber</span><br>\n",
    "<span style=\"color:blue\"> Client Name ---->ClientName</span><br>\n"
   ]
  },
  {
   "cell_type": "code",
   "execution_count": 106,
   "id": "12f716b7-b30a-4d9c-a119-2bb97796fcc8",
   "metadata": {},
   "outputs": [],
   "source": [
    "\n",
    "df =  (spark.read.csv(csv_file_path, header=True, inferSchema=True)\n",
    "        .withColumnRenamed(\"Project Location\",\"ProjectLocation\") # filed name are renamed to ProjectLocation\n",
    "        .withColumnRenamed(\"Client Industry\",\"ClientIndustry\") # filed name are renamed to ClientIndustry\n",
    "        .withColumnRenamed(\"Client SFA URL\",\"ClientSFAURL\") # filed name are renamed to ClientSFAURL\n",
    "        .withColumnRenamed(\"Client Inactive (Yes/No)\",\"ClientInactive\") # filed name are renamed to ClientInactive\n",
    "        .withColumnRenamed(\"Client Number\",\"ClientNumber\")# filed name are renamed to ClientNumber\n",
    "        .withColumnRenamed(\"Client Name\",\"ClientName\"))# filed name are renamed to ClientName\n"
   ]
  },
  {
   "cell_type": "code",
   "execution_count": 66,
   "id": "a81ff1c2-8dfa-4c44-bb5c-92f22b4d9c25",
   "metadata": {},
   "outputs": [
    {
     "name": "stdout",
     "output_type": "stream",
     "text": [
      "+-------------+--------------------+--------------------+--------------------+--------------+---------------+\n",
      "| ClientNumber|          ClientName|      ClientIndustry|        ClientSFAURL|ClientInactive|ProjectLocation|\n",
      "+-------------+--------------------+--------------------+--------------------+--------------+---------------+\n",
      "|       170S01|         170 Systems|             Finance|                NULL|           Yes|             US|\n",
      "|1ST FORMATION|1st Formations Li...|               Other|                 tbd|            No|             UK|\n",
      "|41STPARMTER01|The 41st Paramete...|   Computer Services|                NULL|           Yes|             US|\n",
      "|       AAMC01|Association of Am...|           Education|                NULL|           Yes|             US|\n",
      "|        ABC01|          ABC Disney|         Media & Ent|                NULL|           Yes|             US|\n",
      "|       ACBL01|American Contract...|         Media & Ent|                NULL|           Yes|             US|\n",
      "|    ACCENDI10|Accenture (UKDIRECT)|   Computer Services|                NULL|           Yes|             UK|\n",
      "|    ACCENIS10|  Accenture (UKISSI)|   Computer Services|                NULL|           Yes|             UK|\n",
      "|    ACCENIW10|  Accenture (UKISSW)|   Computer Services|                NULL|           Yes|             UK|\n",
      "|        ACE01|American Computer...|   Telecommunication|https://na87.sale...|           Yes|             US|\n",
      "|       ACSC02|Automobile Club O...|           Insurance|                NULL|           Yes|             US|\n",
      "|    ACTAVIS01|       Actavis, Inc.|         Health Care|                NULL|           Yes|             UK|\n",
      "|    ACTAVIS01|       Actavis, Inc.|         Health Care|                NULL|           Yes|             US|\n",
      "|  ACTIONKPI01|Western Financial...|           Insurance|             Pending|           Yes|             US|\n",
      "|     ACUITY01|              Acuity|           Insurance|                NULL|           Yes|             US|\n",
      "|      ADDEC10|   Adecco (UKDIRECT)|Business / PS Ser...|                NULL|           Yes|             US|\n",
      "|   ADELANTE01|Adelante Software...|             Finance|https://d30000000...|           Yes|             UK|\n",
      "|      ADENA01|Adena Service Ltd...|              Retail|                 tbd|            No|             UK|\n",
      "|      ADOBE01|       Adobe Systems|   Computer Services|                NULL|           Yes|             US|\n",
      "|        ADP01|Open Dealer Excha...|             Finance|                NULL|           Yes|             US|\n",
      "+-------------+--------------------+--------------------+--------------------+--------------+---------------+\n",
      "only showing top 20 rows\n",
      "\n"
     ]
    }
   ],
   "source": [
    "df.show()"
   ]
  },
  {
   "cell_type": "markdown",
   "id": "2f402b9d-e942-4835-9143-e2b0fe699a19",
   "metadata": {},
   "source": [
    "<div style=\"text-align: center;\"><span style=\"color:GREEN\"> <b>------------- PART 1-------------<b> </span><br></div>\n"
   ]
  },
  {
   "cell_type": "code",
   "execution_count": 107,
   "id": "1fcb6082-1c83-4fef-9c63-70ba4a94483d",
   "metadata": {},
   "outputs": [],
   "source": [
    "sales_territory_df = df.select(\n",
    "            F.expr(\"substring(ProjectLocation, 1, 9)\").alias(\"territory_code\"), \n",
    "            F.regexp_replace(\"ProjectLocation\", \"[^\\\\x00-\\\\x7F]\", \"\").alias(\"full_name\"),\n",
    "            F.regexp_replace(\"ProjectLocation\", \"[^\\\\x00-\\\\x7F]\", \"\").alias(\"territory_location\"),\n",
    "            F.regexp_replace(\"ProjectLocation\", \"[^\\\\x00-\\\\x7F]\", \"\").alias(\"description\")\n",
    "        )"
   ]
  },
  {
   "cell_type": "code",
   "execution_count": 108,
   "id": "1095a7b6-2210-44e2-8fb1-1b4bb439ff6d",
   "metadata": {},
   "outputs": [],
   "source": [
    "# Reading data from Sales Territory table \n",
    "\n",
    "existing_territories_df = spark.read.jdbc(jdbc_url, \"sales_territories\", properties=connection_properties)\n"
   ]
  },
  {
   "cell_type": "code",
   "execution_count": 109,
   "id": "2dae8672-457b-447d-99f6-12246e9d0a46",
   "metadata": {},
   "outputs": [],
   "source": [
    "# Performing lookup \n",
    "\n",
    "new_territories_df = sales_territory_df.join(existing_territories_df, sales_territory_df.territory_code == existing_territories_df.territory_code, \"left_anti\")\n"
   ]
  },
  {
   "cell_type": "code",
   "execution_count": 70,
   "id": "57764915-1fde-4c9c-8ffd-cdebf4550b87",
   "metadata": {},
   "outputs": [
    {
     "name": "stdout",
     "output_type": "stream",
     "text": [
      "+--------------+---------+------------------+-----------+\n",
      "|territory_code|full_name|territory_location|description|\n",
      "+--------------+---------+------------------+-----------+\n",
      "+--------------+---------+------------------+-----------+\n",
      "\n"
     ]
    }
   ],
   "source": [
    "new_territories_df.show() "
   ]
  },
  {
   "cell_type": "code",
   "execution_count": 260,
   "id": "75b7beed-936f-44d4-8b13-7b434d421bc3",
   "metadata": {},
   "outputs": [],
   "source": [
    "#WRITING THE FILTERED DATA BACK TO sales_territories TABLE\n",
    "\n",
    "# new_territories_df.write.jdbc(jdbc_url, \"sales_territories\", mode=\"append\", properties=connection_properties)"
   ]
  },
  {
   "cell_type": "code",
   "execution_count": null,
   "id": "f840a5bf-15f0-4c02-96d9-7f303869c9a0",
   "metadata": {},
   "outputs": [],
   "source": []
  },
  {
   "cell_type": "markdown",
   "id": "822d6edc-85e1-409c-88b9-972a3cc0351e",
   "metadata": {},
   "source": [
    "<div style=\"text-align: center;\"><span style=\"color:GREEN\"> <b>------------- PART 2-------------<b> </span><br></div>\n"
   ]
  },
  {
   "cell_type": "markdown",
   "id": "c5bb6344-59ed-42f5-b6c9-4b8e6ed19e79",
   "metadata": {},
   "source": [
    "<span style=\"color:red\"> <b>Changes made in below cell<b></span><br>\n",
    "<span style=\"color: green\">Modified like below</span><br>\n",
    "<span style=\"color:blue\">selectExpr -----------> select</span>\n",
    "\n"
   ]
  },
  {
   "cell_type": "code",
   "execution_count": 73,
   "id": "6932489b-f066-4e18-9052-48914986321c",
   "metadata": {},
   "outputs": [],
   "source": [
    "# Transform Industry Data \n",
    "\n",
    "industry_df = df.select(        \n",
    "    F.lit(2).alias(\"lkup_type_group_id\"),\n",
    "    F.col(\"ClientIndustry\").alias(\"lkup_name\"),\n",
    "    F.col(\"ClientIndustry\").alias(\"description\"),\n",
    "    F.lit(True).alias(\"is_active\")\n",
    ") "
   ]
  },
  {
   "cell_type": "code",
   "execution_count": 74,
   "id": "cfc73244-712f-436b-8c43-5d5ef9a9ec92",
   "metadata": {},
   "outputs": [],
   "source": [
    "# READ THE DATA FROM lkup_types TABLE FROM MYSQL\n",
    "\n",
    "existing_industries_df = spark.read.jdbc(jdbc_url, \"lkup_types\", properties=connection_properties).filter(\"lkup_type_group_id = 2\")"
   ]
  },
  {
   "cell_type": "code",
   "execution_count": 75,
   "id": "993364cd-f9ff-4c78-aef1-23a55a28b257",
   "metadata": {},
   "outputs": [],
   "source": [
    "#PERFORM LOOKUP AND FILTER OUT THE DATA\n",
    "\n",
    "new_industries_df = industry_df.join(existing_industries_df, industry_df.lkup_name == existing_industries_df.lkup_name, \"left_anti\")\n"
   ]
  },
  {
   "cell_type": "code",
   "execution_count": 76,
   "id": "f70909d7-86ab-4b45-a854-a3d29667e78e",
   "metadata": {},
   "outputs": [
    {
     "name": "stdout",
     "output_type": "stream",
     "text": [
      "+------------------+---------+-----------+---------+\n",
      "|lkup_type_group_id|lkup_name|description|is_active|\n",
      "+------------------+---------+-----------+---------+\n",
      "|                 2|     NULL|       NULL|     true|\n",
      "|                 2|     NULL|       NULL|     true|\n",
      "|                 2|     NULL|       NULL|     true|\n",
      "|                 2|     NULL|       NULL|     true|\n",
      "|                 2|     NULL|       NULL|     true|\n",
      "|                 2|     NULL|       NULL|     true|\n",
      "|                 2|     NULL|       NULL|     true|\n",
      "|                 2|     NULL|       NULL|     true|\n",
      "|                 2|     NULL|       NULL|     true|\n",
      "|                 2|     NULL|       NULL|     true|\n",
      "|                 2|     NULL|       NULL|     true|\n",
      "|                 2|     NULL|       NULL|     true|\n",
      "|                 2|     NULL|       NULL|     true|\n",
      "|                 2|     NULL|       NULL|     true|\n",
      "|                 2|     NULL|       NULL|     true|\n",
      "|                 2|     NULL|       NULL|     true|\n",
      "|                 2|     NULL|       NULL|     true|\n",
      "|                 2|     NULL|       NULL|     true|\n",
      "|                 2|     NULL|       NULL|     true|\n",
      "|                 2|     NULL|       NULL|     true|\n",
      "+------------------+---------+-----------+---------+\n",
      "only showing top 20 rows\n",
      "\n"
     ]
    }
   ],
   "source": [
    "new_industries_df.show() "
   ]
  },
  {
   "cell_type": "code",
   "execution_count": null,
   "id": "7a19b23c-dd10-45c6-97b7-0018067566a6",
   "metadata": {},
   "outputs": [],
   "source": [
    "#WRITE FILTERED DATA BACK TO lkup_types TABLE\n",
    "\n",
    "# new_industries_df.write.jdbc(jdbc_url, \"lkup_types\", mode=\"append\", properties=connection_properties)"
   ]
  },
  {
   "cell_type": "markdown",
   "id": "834d32d0-f1bf-4166-9cbc-038bcc912670",
   "metadata": {},
   "source": []
  },
  {
   "cell_type": "markdown",
   "id": "4bcceb72-eb1b-4f6d-aaa9-52ee8baf3c8f",
   "metadata": {},
   "source": [
    "<div style=\"text-align: center;\"><span style=\"color:BLACK\"> <b>--------------------- PART 3-----------------<b> </span><br></div>\n"
   ]
  },
  {
   "cell_type": "markdown",
   "id": "eeccede0-f7ae-4d38-bc00-97f85001bf16",
   "metadata": {},
   "source": [
    "<span style=\"color:RED\"><b> BELOW CODE BLOCK IS NEWLY ADDED<b> (Not present in converted code) </span><br>\n",
    "<span style=\"color:green\">This code is added to perform lookup among sales_territories table, lkup_types with input df</span><br>\n",
    "\n",
    "<span style=\"color:blue\">This code block is responsible to perform lookup (according to talend job)</span>"
   ]
  },
  {
   "cell_type": "code",
   "execution_count": 82,
   "id": "77b5048f-12c8-433c-8ef7-434b1f8eb736",
   "metadata": {},
   "outputs": [],
   "source": [
    "#performing lookup among sales_territories,lkup_types with input df\n",
    "\n",
    "df_final = df.join(\n",
    "    existing_territories_df,\n",
    "    df[\"ProjectLocation\"] == existing_territories_df[\"territory_code\"],\n",
    "    \"left_outer\" \n",
    ").withColumnRenamed(\"id\",\"sales_territ_id\").join(\n",
    "    existing_industries_df,\n",
    "    df[\"ClientIndustry\"] == existing_industries_df[\"lkup_name\"],\n",
    "    \"left_outer\" )\n",
    "\n"
   ]
  },
  {
   "cell_type": "markdown",
   "id": "9dd3fb6d-b13f-4b9d-89fc-aa1485117f8e",
   "metadata": {},
   "source": [
    "<span style=\"color:RED\"><b> CHANGES MADE IN BELOW CELL </span><br>\n",
    "<span style=\"color:green\">Added below lines of code to map typ_industry_id,sales_territory_id </span><br>\n",
    "<span style=\"color:blue\"><b>1.</b> F.col(\"id\").alias(\"typ_industry_id\")----> This id is coming from lkup_table table </span><br>\n",
    "<span style=\"color:blue\"><b>2.</b> F.col(\"sales_territ_id\").alias(\"sales_territory_id\")----> This sales_territ_id is coming from sales_territories table </span><br>\n",
    "\n",
    "\n",
    "\n"
   ]
  },
  {
   "cell_type": "code",
   "execution_count": 84,
   "id": "b05c7544-8c5f-4c11-b59a-5c731c48a7db",
   "metadata": {},
   "outputs": [],
   "source": [
    "#mapping the columns from after performing look up\n",
    "client_df = df_final.select( \n",
    "    F.col(\"ClientNumber\").alias(\"cust_code\"),\n",
    "    F.regexp_replace(\"ClientName\", \"[^\\\\x00-\\\\x7F]\", \"\").alias(\"full_name\"),\n",
    "    F.col(\"id\").alias(\"typ_industry_id\"),\n",
    "    F.col(\"ClientSFAURL\").alias(\"website\"),\n",
    "    F.when(F.col(\"ClientInactive\") == \"No\", 161).otherwise(162).alias(\"typ_cust_status_id\"),\n",
    "    F.col(\"sales_territ_id\").alias(\"sales_territory_id\"),\n",
    "    F.when(F.col(\"ClientInactive\") == \"No\", True).otherwise(False).alias(\"is_active\")   \n",
    ")\n"
   ]
  },
  {
   "cell_type": "code",
   "execution_count": 86,
   "id": "de3fd036-94bd-4fed-a866-cf8042662f26",
   "metadata": {},
   "outputs": [],
   "source": [
    "#AGGREGATE DATA BY cust_code, full_name FILEDS \n",
    "\n",
    "aggregated_client_df = (client_df.groupBy(\"cust_code\", \"full_name\").agg(\n",
    "    F.max(\"typ_industry_id\").alias(\"typ_industry_id\"), \n",
    "    F.max(\"website\").alias(\"website\"), \n",
    "    F.max(\"typ_cust_status_id\").alias(\"typ_cust_status_id\"), \n",
    "    F.max(\"sales_territory_id\").alias(\"sales_territory_id\"), \n",
    "    F.first(\"is_active\").alias(\"is_active\"), \n",
    "))\n"
   ]
  },
  {
   "cell_type": "code",
   "execution_count": 87,
   "id": "4b27bb6e-b664-475c-8e0e-af6dd653fe93",
   "metadata": {},
   "outputs": [
    {
     "name": "stdout",
     "output_type": "stream",
     "text": [
      "+-------------+--------------------+---------------+--------------------+------------------+------------------+---------+\n",
      "|    cust_code|           full_name|typ_industry_id|             website|typ_cust_status_id|sales_territory_id|is_active|\n",
      "+-------------+--------------------+---------------+--------------------+------------------+------------------+---------+\n",
      "|       170S01|         170 Systems|            206|                NULL|               162|                47|    false|\n",
      "|1ST FORMATION|1st Formations Li...|            214|                 tbd|               161|                52|     true|\n",
      "|41STPARMTER01|The 41st Paramete...|            203|                NULL|               162|                47|    false|\n",
      "|       AAMC01|Association of Am...|            204|                NULL|               162|                47|    false|\n",
      "|        ABC01|          ABC Disney|            545|                NULL|               162|                47|    false|\n",
      "|       ACBL01|American Contract...|            545|                NULL|               162|                47|    false|\n",
      "|    ACCENDI10|Accenture (UKDIRECT)|            203|                NULL|               162|                52|    false|\n",
      "|    ACCENIS10|  Accenture (UKISSI)|            203|                NULL|               162|                52|    false|\n",
      "|    ACCENIW10|  Accenture (UKISSW)|            203|                NULL|               162|                52|    false|\n",
      "|        ACE01|American Computer...|            549|https://na87.sale...|               162|                47|    false|\n",
      "|       ACSC02|Automobile Club O...|            209|                NULL|               162|                47|    false|\n",
      "|    ACTAVIS01|       Actavis, Inc.|            546|                NULL|               162|                52|    false|\n",
      "|  ACTIONKPI01|Western Financial...|            209|             Pending|               162|                47|    false|\n",
      "|     ACUITY01|              Acuity|            209|                NULL|               162|                47|    false|\n",
      "|      ADDEC10|   Adecco (UKDIRECT)|            547|                NULL|               162|                47|    false|\n",
      "|   ADELANTE01|Adelante Software...|            206|https://d30000000...|               162|                52|    false|\n",
      "|      ADENA01|Adena Service Ltd...|            216|                 tbd|               161|                52|     true|\n",
      "|      ADOBE01|       Adobe Systems|            203|                NULL|               162|                47|    false|\n",
      "|        ADP01|Open Dealer Excha...|            206|                NULL|               162|                47|    false|\n",
      "|    ADVANCE01|  Advance Auto Parts|            216|                NULL|               161|                47|     true|\n",
      "+-------------+--------------------+---------------+--------------------+------------------+------------------+---------+\n",
      "only showing top 20 rows\n",
      "\n"
     ]
    }
   ],
   "source": [
    "aggregated_client_df.show()"
   ]
  },
  {
   "cell_type": "code",
   "execution_count": null,
   "id": "f6663e56-93b7-4641-9590-046efc1fcff6",
   "metadata": {},
   "outputs": [],
   "source": [
    "# WRITING AGGREGATED DATA TO projector_customer_tmp TABLE \n",
    "\n",
    "# aggregated_client_df.write.jdbc(jdbc_url, \"projector_customer_tmp\", mode=\"overwrite\", properties=connection_properties)"
   ]
  },
  {
   "cell_type": "code",
   "execution_count": null,
   "id": "2b68b6ea-34c9-49a0-9db9-1c29645545a6",
   "metadata": {},
   "outputs": [],
   "source": []
  },
  {
   "cell_type": "markdown",
   "id": "b57a86b0-65e9-4e4e-9383-835a101549ce",
   "metadata": {},
   "source": [
    "\n",
    "<div style=\"text-align: center;\"><span style=\"color:BLACK\"> <b>--------CALLING ProcessProjectorAccounts STORED PROCEDURE--------<b> </span><br></div>\n"
   ]
  },
  {
   "cell_type": "code",
   "execution_count": 88,
   "id": "b7b4d14d-e833-44ac-8ec5-c21b29d8cfb0",
   "metadata": {},
   "outputs": [],
   "source": [
    "conn = mysql.connector.connect(\n",
    "    host=context['mysql_server'],\n",
    "    user=context['mysql_user'],\n",
    "    password=context['mysql_password'],\n",
    "    database=context['mysql_database']\n",
    ") \n",
    "\n",
    "cursor = conn.cursor()\n",
    "cursor.callproc('ProcessProjectorAccounts')\n",
    "conn.commit()\n",
    "\n",
    "#--------------------------UNCOMMENT BELOW SNIPPET IF WANT TO SEE DATA RETURNED BY PROCEDURE-----------------\n",
    "\n",
    "# first_result = True\n",
    "# for result in cursor.stored_results():\n",
    "#     if first_result:\n",
    "        \n",
    "#         rows = result.fetchall()\n",
    "#         columns = [desc[0] for desc in result.description]  \n",
    "\n",
    "#         df_ProcessProjectorAccounts_proc = spark.createDataFrame(rows, schema=columns)\n",
    "#         df_ProcessProjectorAccounts_proc.show()\n",
    "#         first_result = False \n",
    "#     else:\n",
    "#         break  \n",
    "\n",
    "cursor.close()\n",
    "conn.close()"
   ]
  },
  {
   "cell_type": "markdown",
   "id": "05e5126d-a8aa-42f3-86b2-9166514300ba",
   "metadata": {},
   "source": [
    "\n",
    "<div style=\"text-align: center;\"><span style=\"color:BLACK\"> <b>--------CALLING SyncCustomersWithProspects STORED PROCEDURE--------<b> </span><br></div>\n"
   ]
  },
  {
   "cell_type": "code",
   "execution_count": 89,
   "id": "8c10e981-8de3-4ae6-8296-2fd2d790ac3e",
   "metadata": {},
   "outputs": [],
   "source": [
    "conn = mysql.connector.connect(\n",
    "    host=context['mysql_server'],\n",
    "    user=context['mysql_user'],\n",
    "    password=context['mysql_password'],\n",
    "    database=context['mysql_database']\n",
    ") \n",
    "\n",
    "cursor = conn.cursor()\n",
    "cursor.callproc('SyncCustomersWithProspects')\n",
    "conn.commit()\n",
    "\n",
    "#--------------------------UNCOMMENT BELOW SNIPPET IF WANT TO SEE DATA RETURNED BY PROCEDURE-------------------\n",
    "\n",
    "# first_result = True\n",
    "# for result in cursor.stored_results():\n",
    "#     if first_result:\n",
    "        \n",
    "#         rows = result.fetchall()\n",
    "#         columns = [desc[0] for desc in result.description]  \n",
    "\n",
    "#         df_SyncCustomersWithProspects_proc = spark.createDataFrame(rows, schema=columns)\n",
    "#         df_SyncCustomersWithProspects_proc.show()\n",
    "#         first_result = False \n",
    "#     else:\n",
    "#         break  \n",
    "\n",
    "\n",
    "cursor.close()\n",
    "conn.close()"
   ]
  },
  {
   "cell_type": "code",
   "execution_count": null,
   "id": "a37c77db-2685-4cc5-b37d-576c2acc8b0d",
   "metadata": {},
   "outputs": [],
   "source": []
  },
  {
   "cell_type": "markdown",
   "id": "5a1b7f7a-2be8-49d3-94b9-753b1577f205",
   "metadata": {},
   "source": [
    "\n",
    "<div style=\"text-align: center;\"><span style=\"color:BLACK\"> <b>----------------------PART 4-----------------------<b> </span><br></div>\n"
   ]
  },
  {
   "cell_type": "code",
   "execution_count": 90,
   "id": "79c8f0e5-f3d7-410a-814d-b4b3d2f1fd17",
   "metadata": {},
   "outputs": [],
   "source": [
    "\n",
    "customer_division_df = df.groupBy(\"ClientNumber\").agg(\n",
    "    F.first(\"ClientName\").alias(\"ClientName\"),\n",
    "    F.first(\"ClientIndustry\").alias(\"ClientIndustry\"),\n",
    "    F.first(\"ClientSFAURL\").alias(\"ClientSFAURL\"),\n",
    "    F.first(\"ClientInactive\").alias(\"ClientInactive\"),\n",
    "    F.first(\"ProjectLocation\").alias(\"ProjectLocation\")\n",
    ")\n"
   ]
  },
  {
   "cell_type": "markdown",
   "id": "10a6ba5f-abf0-4df0-a57a-fd2f7a0c45c8",
   "metadata": {},
   "source": [
    "<span style=\"color:RED\"><b> CHANGES MADE IN BELOW CELL </span><br>\n",
    "<span style=\"color:green\">Removed below lines from the code as they are wrongly mapped and not required according to talend job</span><br>\n",
    "<span style=\"color:blue\">F.regexp_replace(\"ClientName\", \"[^\\\\x00-\\\\x7F]\", \"\").alias(\"division_name\"),</span><br>\n",
    "<span style=\"color:blue\">F.regexp_replace(\"ClientIndustry\", \"[^\\\\x00-\\\\x7F]\", \"\").alias(\"industry\"), </span><br><span style=\"color:blue\">F.regexp_replace(\"ClientSFAURL\", \"[^\\\\x00-\\\\x7F]\", \"\").alias(\"website\"),</span><br><span style=\"color:blue\">F.regexp_replace(\"ProjectLocation\", \"[^\\\\x00-\\\\x7F]\", \"\").alias(\"location\")</span><br>\n",
    "\n",
    "\n",
    "\n"
   ]
  },
  {
   "cell_type": "code",
   "execution_count": 91,
   "id": "b2b01874-d62d-4c53-9170-faf8bf414808",
   "metadata": {},
   "outputs": [],
   "source": [
    "# changes made (commented last 4 columns as we dont require them and those are not [resent in talend mapping)\n",
    "copyOfcustDivs = customer_division_df.select(\n",
    "    F.lit(None).alias(\"id\"),\n",
    "    F.lit(\"Customer\").alias(\"object_type_code\"),\n",
    "    F.when(F.col(\"ClientInactive\") == \"No\", False).otherwise(True).alias(\"is_active\"),\n",
    "    F.lit(None).alias(\"date_created\"),\n",
    "    F.lit(None).alias(\"last_updated\"),\n",
    "    F.lit(\"\").alias(\"created_by\"),\n",
    "    F.lit(\"\").alias(\"last_updated_by\"),\n",
    "    F.lit(1).alias(\"created_by_id\"),\n",
    "    F.lit(1).alias(\"last_updated_by_id\"),\n",
    "    F.lit(\"UNKNOWN\").alias(\"DivisionName\"),\n",
    "    F.lit(\"UNKNOWN\").alias(\"DivisionDescription\"),\n",
    "    F.lit(\"UNKNOWN\").alias(\"DivisionAddress\"),\n",
    "    F.lit(\"UNKNOWN\").alias(\"DivisionContact\"),\n",
    "    F.col(\"ClientNumber\").alias(\"CustomerId\")\n",
    "    # F.regexp_replace(\"ClientName\", \"[^\\\\x00-\\\\x7F]\", \"\").alias(\"division_name\"),\n",
    "    # F.regexp_replace(\"ClientIndustry\", \"[^\\\\x00-\\\\x7F]\", \"\").alias(\"industry\"),\n",
    "    # F.regexp_replace(\"ClientSFAURL\", \"[^\\\\x00-\\\\x7F]\", \"\").alias(\"website\"),\n",
    "    # F.regexp_replace(\"ProjectLocation\", \"[^\\\\x00-\\\\x7F]\", \"\").alias(\"location\")\n",
    ")"
   ]
  },
  {
   "cell_type": "code",
   "execution_count": null,
   "id": "51e56f5b-9e53-4bb8-92f9-131f8e04992f",
   "metadata": {},
   "outputs": [],
   "source": [
    "#----------------REST STEPS ARE MISSING AFTER THIS IN  FLIT 2580------------------------------"
   ]
  },
  {
   "cell_type": "markdown",
   "id": "aff84255-d23d-446e-ad34-8ddbdd780f2d",
   "metadata": {},
   "source": [
    "<span style=\"color:RED\"><b> CHANGES MADE IN BELOW CELL </span><br>\n",
    "<span style=\"color:green\">Code in below 4 cells are taken from flit_2581 </span><br>\n",
    "<span style=\"color:blue\">Next steps after mapping are not present in flit_2580, so the  script required for part 4 is taken from  flit_2581 </span><br>\n",
    "\n",
    "\n",
    "\n",
    "\n"
   ]
  },
  {
   "cell_type": "code",
   "execution_count": 93,
   "id": "8134f2c5-727a-48e8-b1b9-111975009670",
   "metadata": {},
   "outputs": [
    {
     "name": "stdout",
     "output_type": "stream",
     "text": [
      "+-------------+--------------------+--------------------+--------------------+--------------+---------------+\n",
      "| ClientNumber|          ClientName|      ClientIndustry|        ClientSFAURL|ClientInactive|ProjectLocation|\n",
      "+-------------+--------------------+--------------------+--------------------+--------------+---------------+\n",
      "|       170S01|         170 Systems|             Finance|                NULL|           Yes|             US|\n",
      "|1ST FORMATION|1st Formations Li...|               Other|                 tbd|            No|             UK|\n",
      "|41STPARMTER01|The 41st Paramete...|   Computer Services|                NULL|           Yes|             US|\n",
      "|       AAMC01|Association of Am...|           Education|                NULL|           Yes|             US|\n",
      "|        ABC01|          ABC Disney|         Media & Ent|                NULL|           Yes|             US|\n",
      "|       ACBL01|American Contract...|         Media & Ent|                NULL|           Yes|             US|\n",
      "|    ACCENDI10|Accenture (UKDIRECT)|   Computer Services|                NULL|           Yes|             UK|\n",
      "|    ACCENIS10|  Accenture (UKISSI)|   Computer Services|                NULL|           Yes|             UK|\n",
      "|    ACCENIW10|  Accenture (UKISSW)|   Computer Services|                NULL|           Yes|             UK|\n",
      "|        ACE01|American Computer...|   Telecommunication|https://na87.sale...|           Yes|             US|\n",
      "|       ACSC02|Automobile Club O...|           Insurance|                NULL|           Yes|             US|\n",
      "|    ACTAVIS01|       Actavis, Inc.|         Health Care|                NULL|           Yes|             UK|\n",
      "|  ACTIONKPI01|Western Financial...|           Insurance|             Pending|           Yes|             US|\n",
      "|     ACUITY01|              Acuity|           Insurance|                NULL|           Yes|             US|\n",
      "|      ADDEC10|   Adecco (UKDIRECT)|Business / PS Ser...|                NULL|           Yes|             US|\n",
      "|   ADELANTE01|Adelante Software...|             Finance|https://d30000000...|           Yes|             UK|\n",
      "|      ADENA01|Adena Service Ltd...|              Retail|                 tbd|            No|             UK|\n",
      "|      ADOBE01|       Adobe Systems|   Computer Services|                NULL|           Yes|             US|\n",
      "|        ADP01|Open Dealer Excha...|             Finance|                NULL|           Yes|             US|\n",
      "|    ADVANCE01|  Advance Auto Parts|              Retail|                NULL|            No|             US|\n",
      "+-------------+--------------------+--------------------+--------------------+--------------+---------------+\n",
      "only showing top 20 rows\n",
      "\n"
     ]
    }
   ],
   "source": [
    "customer_division_df = df.select(\"ClientNumber\", \"ClientName\", \"ClientIndustry\", \"ClientSFAURL\", \"ClientInactive\", \"ProjectLocation\")\n",
    "\n",
    "# Aggregate Customer Division Data\n",
    "aggregated_customer_division_df = customer_division_df.groupBy(\"ClientNumber\").agg(\n",
    "    F.first(\"ClientName\").alias(\"ClientName\"),\n",
    "    F.first(\"ClientIndustry\").alias(\"ClientIndustry\"),\n",
    "    F.first(\"ClientSFAURL\").alias(\"ClientSFAURL\"),\n",
    "    F.first(\"ClientInactive\").alias(\"ClientInactive\"),\n",
    "    F.first(\"ProjectLocation\").alias(\"ProjectLocation\")\n",
    ")\n",
    "aggregated_customer_division_df.show()\n"
   ]
  },
  {
   "cell_type": "code",
   "execution_count": 110,
   "id": "3591fde0-28b9-407a-8f8c-57eb00a661ce",
   "metadata": {},
   "outputs": [],
   "source": [
    "# Transform Customer Division Data\n",
    "\n",
    "customer_division_transformed_df = aggregated_customer_division_df.select(\n",
    "    F.col(\"ClientName\").alias(\"DivisionName\"),\n",
    "    F.col(\"ClientNumber\").alias(\"ClientNumber\"),\n",
    "    F.col(\"ClientIndustry\").alias(\"DivisionDescription\"),\n",
    "    F.col(\"ClientSFAURL\").alias(\"DivisionAddress\"),\n",
    "    F.col(\"ClientInactive\").alias(\"DivisionContact\")\n",
    ")"
   ]
  },
  {
   "cell_type": "code",
   "execution_count": 112,
   "id": "142247ce-3dcc-4d0c-80fc-6778673fcb2e",
   "metadata": {},
   "outputs": [],
   "source": [
    "#RAED CUSTOMERS ATBLE FROM MYSQL\n",
    "customer_lookup_df = spark.read.jdbc(jdbc_url, \"customers\", properties=connection_properties) \\\n",
    "    .select(\"id\", \"cust_code\")\n"
   ]
  },
  {
   "cell_type": "code",
   "execution_count": 114,
   "id": "a4d03178-4eab-4ecd-8cf3-4a1b9a9a971a",
   "metadata": {},
   "outputs": [],
   "source": [
    "#PERFORM LOOKUP \n",
    "customer_division_transformed_df = customer_division_transformed_df \\\n",
    "    .join(customer_lookup_df, customer_division_transformed_df.ClientNumber == customer_lookup_df.cust_code, \"left\") \\\n",
    "    .select(\"DivisionName\", \"DivisionDescription\", \"DivisionAddress\", \"DivisionContact\", F.col(\"id\").alias(\"CustomerId\")\n",
    "           )"
   ]
  },
  {
   "cell_type": "code",
   "execution_count": 115,
   "id": "eda6acf2-da14-4611-a279-a99a8170e4f3",
   "metadata": {},
   "outputs": [
    {
     "name": "stdout",
     "output_type": "stream",
     "text": [
      "+--------------------+--------------------+--------------------+---------------+----------+\n",
      "|        DivisionName| DivisionDescription|     DivisionAddress|DivisionContact|CustomerId|\n",
      "+--------------------+--------------------+--------------------+---------------+----------+\n",
      "|         170 Systems|             Finance|                NULL|            Yes|   1551272|\n",
      "|1st Formations Li...|               Other|                 tbd|             No| 128283684|\n",
      "|The 41st Paramete...|   Computer Services|                NULL|            Yes|   1551273|\n",
      "|Association of Am...|           Education|                NULL|            Yes|   1551274|\n",
      "|          ABC Disney|         Media & Ent|                NULL|            Yes|   1551275|\n",
      "|American Contract...|         Media & Ent|                NULL|            Yes|   1551276|\n",
      "|Accenture (UKDIRECT)|   Computer Services|                NULL|            Yes|   1551277|\n",
      "|  Accenture (UKISSI)|   Computer Services|                NULL|            Yes|   1551278|\n",
      "|  Accenture (UKISSW)|   Computer Services|                NULL|            Yes|   1551279|\n",
      "|American Computer...|   Telecommunication|https://na87.sale...|            Yes|  29063316|\n",
      "|Automobile Club O...|           Insurance|                NULL|            Yes|   1551280|\n",
      "|       Actavis, Inc.|         Health Care|                NULL|            Yes|   1551282|\n",
      "|Western Financial...|           Insurance|             Pending|            Yes| 130723113|\n",
      "|              Acuity|           Insurance|                NULL|            Yes|   1551283|\n",
      "|   Adecco (UKDIRECT)|Business / PS Ser...|                NULL|            Yes|   1551284|\n",
      "|Adelante Software...|             Finance|https://d30000000...|            Yes| 112042055|\n",
      "|Adena Service Ltd...|              Retail|                 tbd|             No|  63975211|\n",
      "|       Adobe Systems|   Computer Services|                NULL|            Yes|   1551285|\n",
      "|Open Dealer Excha...|             Finance|                NULL|            Yes|   1551286|\n",
      "|  Advance Auto Parts|              Retail|                NULL|             No|   1551287|\n",
      "+--------------------+--------------------+--------------------+---------------+----------+\n",
      "only showing top 20 rows\n",
      "\n"
     ]
    }
   ],
   "source": [
    "customer_division_transformed_df.show()"
   ]
  },
  {
   "cell_type": "code",
   "execution_count": null,
   "id": "67904d29-7464-42c3-bffb-717fdc6142e6",
   "metadata": {},
   "outputs": [],
   "source": [
    "# Insert Customer Divisions into Base Domains\n",
    "\n",
    "# customer_division_transformed_df.write.jdbc(mysql_url, \"base_domains\", mode=\"append\", properties=mysql_properties)\n"
   ]
  },
  {
   "cell_type": "markdown",
   "id": "0f2b1c0d-d2d0-41b4-b777-088685df6860",
   "metadata": {},
   "source": [
    "<span style=\"color:RED\"><b> CHANGES MADE IN BELOW CELL </span><br>\n",
    "<span style=\"color:green\">Replacing the existing code the below line to hardcode last_inserted_id as <b>'999'</b></span><br>\n",
    "<span style=\"color:blue\">As we are not sure about LAST_INSERT_ID(), we are considering last_insert_id as 999 temporarily </span><br>\n",
    "<span style=\"color:black\">last_insert_id_df = spark.sql(\"SELECT LAST_INSERT_ID() as last_insert_id\")<b>----></b> last_insert_id_df = spark.createDataFrame([Row(id='999')]) </span><br>\n",
    "\n",
    "\n",
    "\n"
   ]
  },
  {
   "cell_type": "code",
   "execution_count": 120,
   "id": "ff5eb035-126f-4c8a-827a-48d72e5ce2bf",
   "metadata": {},
   "outputs": [],
   "source": [
    "# Get Last Insert ID \n",
    "\n",
    "# last_insert_id_df = spark.sql(\"SELECT LAST_INSERT_ID() as last_insert_id\")\n",
    "\n",
    "last_insert_id_df = spark.createDataFrame([Row(id='999')])"
   ]
  },
  {
   "cell_type": "code",
   "execution_count": 121,
   "id": "8000820b-1be4-4ec1-82e8-11678fde760e",
   "metadata": {},
   "outputs": [],
   "source": [
    "# Map Last Insert ID to Division Data\n",
    "\n",
    "division_data_df = customer_division_transformed_df.crossJoin(last_insert_id_df)\n"
   ]
  },
  {
   "cell_type": "code",
   "execution_count": 123,
   "id": "bae0b9e6-b956-40b8-ac59-fa9f48bc2f72",
   "metadata": {},
   "outputs": [
    {
     "name": "stdout",
     "output_type": "stream",
     "text": [
      "+--------------------+--------------------+--------------------+---------------+----------+---+\n",
      "|        DivisionName| DivisionDescription|     DivisionAddress|DivisionContact|CustomerId| id|\n",
      "+--------------------+--------------------+--------------------+---------------+----------+---+\n",
      "|         170 Systems|             Finance|                NULL|            Yes|   1551272|999|\n",
      "|1st Formations Li...|               Other|                 tbd|             No| 128283684|999|\n",
      "|The 41st Paramete...|   Computer Services|                NULL|            Yes|   1551273|999|\n",
      "|Association of Am...|           Education|                NULL|            Yes|   1551274|999|\n",
      "|          ABC Disney|         Media & Ent|                NULL|            Yes|   1551275|999|\n",
      "|American Contract...|         Media & Ent|                NULL|            Yes|   1551276|999|\n",
      "|Accenture (UKDIRECT)|   Computer Services|                NULL|            Yes|   1551277|999|\n",
      "|  Accenture (UKISSI)|   Computer Services|                NULL|            Yes|   1551278|999|\n",
      "|  Accenture (UKISSW)|   Computer Services|                NULL|            Yes|   1551279|999|\n",
      "|American Computer...|   Telecommunication|https://na87.sale...|            Yes|  29063316|999|\n",
      "|Automobile Club O...|           Insurance|                NULL|            Yes|   1551280|999|\n",
      "|       Actavis, Inc.|         Health Care|                NULL|            Yes|   1551282|999|\n",
      "|Western Financial...|           Insurance|             Pending|            Yes| 130723113|999|\n",
      "|              Acuity|           Insurance|                NULL|            Yes|   1551283|999|\n",
      "|   Adecco (UKDIRECT)|Business / PS Ser...|                NULL|            Yes|   1551284|999|\n",
      "|Adelante Software...|             Finance|https://d30000000...|            Yes| 112042055|999|\n",
      "|Adena Service Ltd...|              Retail|                 tbd|             No|  63975211|999|\n",
      "|       Adobe Systems|   Computer Services|                NULL|            Yes|   1551285|999|\n",
      "|Open Dealer Excha...|             Finance|                NULL|            Yes|   1551286|999|\n",
      "|  Advance Auto Parts|              Retail|                NULL|             No|   1551287|999|\n",
      "+--------------------+--------------------+--------------------+---------------+----------+---+\n",
      "only showing top 20 rows\n",
      "\n"
     ]
    }
   ],
   "source": [
    "division_data_df.show()"
   ]
  },
  {
   "cell_type": "code",
   "execution_count": null,
   "id": "4f867489-ad24-4f4a-9573-092570403eb4",
   "metadata": {},
   "outputs": [],
   "source": [
    "# Insert or Update Divisions\n",
    "\n",
    "\n",
    "# division_data_df.write.jdbc(mysql_url, \"divisions\", mode=\"append\", properties=mysql_properties)"
   ]
  },
  {
   "cell_type": "code",
   "execution_count": null,
   "id": "37ae2ece-3786-417e-b1bd-3c274d65d062",
   "metadata": {},
   "outputs": [],
   "source": []
  }
 ],
 "metadata": {
  "kernelspec": {
   "display_name": "Python 3",
   "language": "python",
   "name": "python3"
  },
  "language_info": {
   "codemirror_mode": {
    "name": "ipython",
    "version": 3
   },
   "file_extension": ".py",
   "mimetype": "text/x-python",
   "name": "python",
   "nbconvert_exporter": "python",
   "pygments_lexer": "ipython3",
   "version": "3.11.9"
  }
 },
 "nbformat": 4,
 "nbformat_minor": 5
}
