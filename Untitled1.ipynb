{
 "cells": [
  {
   "cell_type": "code",
   "execution_count": 406,
   "id": "cdcbcf93-9a57-44a9-b161-f066cdbe5220",
   "metadata": {},
   "outputs": [],
   "source": [
    "from pyspark.sql import SparkSession\n",
    "import mysql.connector\n",
    "import requests\n",
    "import pyspark.sql.functions as F\n",
    "import logging\n",
    "import os\n",
    "\n"
   ]
  },
  {
   "cell_type": "code",
   "execution_count": 407,
   "id": "4c5b7e81-97d8-4bb8-8dc9-f74fafbe346f",
   "metadata": {},
   "outputs": [],
   "source": [
    "spark = SparkSession.builder \\\n",
    "    .appName(\"ReadMySQLTable\") \\\n",
    "    .config(\"spark.jars\", \"/usr/share/java/mysql-connector-java-9.1.0.jar\") \\\n",
    "    .getOrCreate()"
   ]
  },
  {
   "cell_type": "code",
   "execution_count": 429,
   "id": "3d17c709-bed0-4808-9d3c-565b25106bdf",
   "metadata": {},
   "outputs": [],
   "source": [
    "# Define context variables\n",
    "context = {\n",
    "    \"mysql_server\": \"10.11.12.125\",\n",
    "    \"mysql_port\": \"3306\",\n",
    "    \"mysql_database\": \"PPMWeb_Prod_22_Oct_2024\",\n",
    "    \"mysql_user\": \"teamuser\",\n",
    "    \"mysql_password\": \"sigma5678\",\n",
    "    \"import_files_dir\": \"/home/innv1admn/ppminput/csv/\",\n",
    "    \"ImportFilesDir\": \"D:/MyProjects/Official/ETL/PROJECTOR_PPM/InputFiles/\",\n",
    "    \"OutputFilesDir\": \"D:/MyProjects/Official/ETL/PROJECTOR_PPM/OutputFiles/\",\n",
    "    \"ppmdb_Server\": \"10.11.12.125\",\n",
    "    \"ppmdb_Port\": \"3306\",\n",
    "    \"ppmdb_Database\": \"PPMWeb_Prod_22_Oct_2024\",\n",
    "    \"ppmdb_Login\": \"teamuser\",\n",
    "    \"ppmdb_Password\": \"sigma5678\"\n",
    "}"
   ]
  },
  {
   "cell_type": "code",
   "execution_count": 252,
   "id": "2684c7c9-c410-4aca-b04a-6ad7986d1a9f",
   "metadata": {},
   "outputs": [],
   "source": [
    "# url = \"jdbc:mysql://10.11.12.125:3306/PPMWeb_Prod_22_Oct_2024\"\n",
    "# table = \"sales_territories\"\n",
    "# connection_properties = {\n",
    "#     \"user\": \"teamuser\",\n",
    "#     \"password\": \"sigma5678\",\n",
    "#     \"driver\": \"com.mysql.cj.jdbc.Driver\"\n",
    "}\n",
    "\n"
   ]
  },
  {
   "cell_type": "code",
   "execution_count": 430,
   "id": "f90a2bfd-7af9-42d7-9b44-da75df5ba1da",
   "metadata": {},
   "outputs": [],
   "source": [
    "# Establish MySQL connection\n",
    "jdbc_url = f\"jdbc:mysql://{context['mysql_server']}:{context['mysql_port']}/{context['mysql_database']}\"\n",
    "connection_properties = {\n",
    "    \"user\": context[\"mysql_user\"],\n",
    "    \"password\": context[\"mysql_password\"],\n",
    "    \"driver\": \"com.mysql.cj.jdbc.Driver\"\n",
    "}"
   ]
  },
  {
   "cell_type": "code",
   "execution_count": 412,
   "id": "891613f6-2701-4947-a05d-e76802690f6b",
   "metadata": {},
   "outputs": [],
   "source": [
    "db_connection = mysql.connector.connect(\n",
    "    host=context[\"ppmdb_Server\"],\n",
    "    port=context[\"ppmdb_Port\"],\n",
    "    database=context[\"ppmdb_Database\"],\n",
    "    user=context[\"ppmdb_Login\"],\n",
    "    password=context[\"ppmdb_Password\"]\n",
    ")\n"
   ]
  },
  {
   "cell_type": "code",
   "execution_count": 431,
   "id": "7f3e4cc9-a06d-4e91-9483-6eca1d14d327",
   "metadata": {},
   "outputs": [],
   "source": [
    "# Fetch CSV File from URL\n",
    "url = \"https://app.projectorpsa.com/report/code/ProjectorPPMAccountList?format=csv&columnheaders=firstrow&UserName=bala.peddi@prolifics.com&Password=Mylife@2016\"\n",
    "response = requests.get(url)\n",
    "csv_file_path = f\"{context['import_files_dir']}/projectorAccounts.csv\"\n",
    "with open(csv_file_path, 'wb') as file:\n",
    "    file.write(response.content)"
   ]
  },
  {
   "cell_type": "code",
   "execution_count": null,
   "id": "63e624f0-8231-4826-98ac-c06f357d4d1c",
   "metadata": {},
   "outputs": [],
   "source": [
    "\n",
    "\n",
    "# if os.path.exists(file_path):\n",
    "#     print(f\"File exists at: {os.path.abspath(file_path)}\")\n",
    "# else:\n",
    "#     print(\"File not found. Please check the folder path.\")\n",
    "\n",
    "\n",
    "# print(f\"Current working directory: {os.getcwd()}\")\n",
    "\n",
    "# # Change the working directory to your home folder or a specific folder\n",
    "# os.chdir(\"ppminput/csv\")  # Replace with your desired path\n",
    "# print(f\"Working directory changed to: {os.getcwd()}\")\n",
    "\n",
    "# # Define the folder path relative to the current working directory\n",
    "# folder_path = \"ppminput/csv\"\n",
    "\n",
    "# # Create the folder structure\n",
    "# os.makedirs(folder_path, exist_ok=True)\n",
    "\n",
    "# print(f\"Folder created at: {os.path.abspath(folder_path)}\")"
   ]
  },
  {
   "cell_type": "code",
   "execution_count": 432,
   "id": "12f716b7-b30a-4d9c-a119-2bb97796fcc8",
   "metadata": {},
   "outputs": [],
   "source": [
    "# change in column names\n",
    "df = (spark.read.csv(csv_file_path, header=True, inferSchema=True)\n",
    ".withColumnRenamed(\"Project Location\",\"ProjectLocation\")\n",
    ".withColumnRenamed(\"Client Industry\",\"ClientIndustry\")\n",
    ".withColumnRenamed(\"Client SFA URL\",\"ClientSFAURL\")\n",
    ".withColumnRenamed(\"Client Inactive (Yes/No)\",\"ClientInactive\")\n",
    ".withColumnRenamed(\"Client Number\",\"ClientNumber\")\n",
    ".withColumnRenamed(\"Client Name\",\"ClientName\"))\n"
   ]
  },
  {
   "cell_type": "code",
   "execution_count": 254,
   "id": "1fcb6082-1c83-4fef-9c63-70ba4a94483d",
   "metadata": {},
   "outputs": [],
   "source": [
    "# change in Expressions\n",
    "\n",
    "sales_territory_df = df.select(\n",
    "    F.expr(\"substring(ProjectLocation, 1, 9)\").alias(\"territory_code\"),\n",
    "    F.regexp_replace(\"ProjectLocation\", \"[^\\\\x00-\\\\x7F]\", \"\").alias(\"full_name\"),\n",
    "    F.regexp_replace(\"ProjectLocation\", \"[^\\\\x00-\\\\x7F]\", \"\").alias(\"territory_location\"),\n",
    "    F.regexp_replace(\"ProjectLocation\", \"[^\\\\x00-\\\\x7F]\", \"\").alias(\"description\")\n",
    ")"
   ]
  },
  {
   "cell_type": "code",
   "execution_count": 255,
   "id": "1095a7b6-2210-44e2-8fb1-1b4bb439ff6d",
   "metadata": {},
   "outputs": [],
   "source": [
    "# Filter and Load New Sales Territory Data\n",
    "existing_territories_df = spark.read.jdbc(jdbc_url, \"sales_territories\", properties=connection_properties)\n"
   ]
  },
  {
   "cell_type": "code",
   "execution_count": 256,
   "id": "2dae8672-457b-447d-99f6-12246e9d0a46",
   "metadata": {},
   "outputs": [],
   "source": [
    "new_territories_df = sales_territory_df.join(existing_territories_df, sales_territory_df.territory_code == existing_territories_df.territory_code, \"left_anti\")\n"
   ]
  },
  {
   "cell_type": "code",
   "execution_count": 257,
   "id": "57764915-1fde-4c9c-8ffd-cdebf4550b87",
   "metadata": {},
   "outputs": [
    {
     "name": "stdout",
     "output_type": "stream",
     "text": [
      "+--------------+---------+------------------+-----------+\n",
      "|territory_code|full_name|territory_location|description|\n",
      "+--------------+---------+------------------+-----------+\n",
      "+--------------+---------+------------------+-----------+\n",
      "\n"
     ]
    }
   ],
   "source": [
    "new_territories_df.show()"
   ]
  },
  {
   "cell_type": "code",
   "execution_count": 260,
   "id": "75b7beed-936f-44d4-8b13-7b434d421bc3",
   "metadata": {},
   "outputs": [],
   "source": [
    "# new_territories_df.write.jdbc(jdbc_url, \"sales_territories\", mode=\"append\", properties=connection_properties)"
   ]
  },
  {
   "cell_type": "code",
   "execution_count": null,
   "id": "f840a5bf-15f0-4c02-96d9-7f303869c9a0",
   "metadata": {},
   "outputs": [],
   "source": []
  },
  {
   "cell_type": "code",
   "execution_count": 238,
   "id": "f6394ccf-5066-4fcc-9611-b5f265f80dd5",
   "metadata": {},
   "outputs": [],
   "source": [
    "#-----------------------------------------PART 2---------------------------------------"
   ]
  },
  {
   "cell_type": "code",
   "execution_count": 276,
   "id": "6932489b-f066-4e18-9052-48914986321c",
   "metadata": {},
   "outputs": [],
   "source": [
    "# Transform Industry Data #changes made\n",
    "industry_df = df.select(\n",
    "    lit(2).alias(\"lkup_type_group_id\"),\n",
    "    col(\"ClientIndustry\").alias(\"lkup_name\"),\n",
    "    col(\"ClientIndustry\").alias(\"description\"),\n",
    "    lit(True).alias(\"is_active\")\n",
    ")"
   ]
  },
  {
   "cell_type": "code",
   "execution_count": 277,
   "id": "cfc73244-712f-436b-8c43-5d5ef9a9ec92",
   "metadata": {},
   "outputs": [],
   "source": [
    "# Filter and Load New Industry Data\n",
    "existing_industries_df = spark.read.jdbc(jdbc_url, \"lkup_types\", properties=connection_properties).filter(\"lkup_type_group_id = 2\")"
   ]
  },
  {
   "cell_type": "code",
   "execution_count": 278,
   "id": "993364cd-f9ff-4c78-aef1-23a55a28b257",
   "metadata": {},
   "outputs": [],
   "source": [
    "new_industries_df = industry_df.join(existing_industries_df, industry_df.lkup_name == existing_industries_df.lkup_name, \"left_anti\")\n"
   ]
  },
  {
   "cell_type": "code",
   "execution_count": 266,
   "id": "f70909d7-86ab-4b45-a854-a3d29667e78e",
   "metadata": {},
   "outputs": [
    {
     "name": "stdout",
     "output_type": "stream",
     "text": [
      "+------------------+---------+-----------+---------+\n",
      "|lkup_type_group_id|lkup_name|description|is_active|\n",
      "+------------------+---------+-----------+---------+\n",
      "|                 2|     NULL|       NULL|     true|\n",
      "|                 2|     NULL|       NULL|     true|\n",
      "|                 2|     NULL|       NULL|     true|\n",
      "|                 2|     NULL|       NULL|     true|\n",
      "|                 2|     NULL|       NULL|     true|\n",
      "|                 2|     NULL|       NULL|     true|\n",
      "|                 2|     NULL|       NULL|     true|\n",
      "|                 2|     NULL|       NULL|     true|\n",
      "|                 2|     NULL|       NULL|     true|\n",
      "|                 2|     NULL|       NULL|     true|\n",
      "|                 2|     NULL|       NULL|     true|\n",
      "|                 2|     NULL|       NULL|     true|\n",
      "|                 2|     NULL|       NULL|     true|\n",
      "|                 2|     NULL|       NULL|     true|\n",
      "|                 2|     NULL|       NULL|     true|\n",
      "|                 2|     NULL|       NULL|     true|\n",
      "|                 2|     NULL|       NULL|     true|\n",
      "|                 2|     NULL|       NULL|     true|\n",
      "|                 2|     NULL|       NULL|     true|\n",
      "|                 2|     NULL|       NULL|     true|\n",
      "+------------------+---------+-----------+---------+\n",
      "only showing top 20 rows\n",
      "\n"
     ]
    }
   ],
   "source": [
    "new_industries_df.show() "
   ]
  },
  {
   "cell_type": "code",
   "execution_count": null,
   "id": "7a19b23c-dd10-45c6-97b7-0018067566a6",
   "metadata": {},
   "outputs": [],
   "source": [
    "# new_industries_df.write.jdbc(jdbc_url, \"lkup_types\", mode=\"append\", properties=connection_properties)"
   ]
  },
  {
   "cell_type": "code",
   "execution_count": null,
   "id": "af0013b1-ce63-4ba2-bc9b-cf167a5fefdc",
   "metadata": {},
   "outputs": [],
   "source": []
  },
  {
   "cell_type": "code",
   "execution_count": null,
   "id": "756c6b27-af44-4920-bae8-0adc3e1f67a4",
   "metadata": {},
   "outputs": [],
   "source": [
    "#----------------------------------------PART 3--------------------------------------"
   ]
  },
  {
   "cell_type": "code",
   "execution_count": 281,
   "id": "1a6bbf07-e6b9-4e85-b1f9-7a1fe174b231",
   "metadata": {},
   "outputs": [],
   "source": [
    "#-----------------------------------PART 3 NEW CODE-----------------------------------"
   ]
  },
  {
   "cell_type": "code",
   "execution_count": 298,
   "id": "1ea7f933-a3e5-497f-b7dd-364fcc322ad3",
   "metadata": {},
   "outputs": [],
   "source": [
    "#new code \n",
    "\n",
    "df_final = df.join(\n",
    "    existing_territories_df,\n",
    "    df[\"ProjectLocation\"] == existing_territories_df[\"territory_code\"],\n",
    "    \"left_outer\" \n",
    ").withColumnRenamed(\"id\",\"sales_territ_id\").join(\n",
    "    existing_industries_df,\n",
    "    df[\"ClientIndustry\"] == existing_industries_df[\"lkup_name\"],\n",
    "    \"left_outer\" )\n",
    "# df_final.show()\n"
   ]
  },
  {
   "cell_type": "code",
   "execution_count": 306,
   "id": "b05c7544-8c5f-4c11-b59a-5c731c48a7db",
   "metadata": {},
   "outputs": [],
   "source": [
    "#new code\n",
    "df_3 = df_final.select( \n",
    "    F.col(\"ClientNumber\").alias(\"cust_code\"),\n",
    "    F.regexp_replace(\"ClientName\", \"[^\\\\x00-\\\\x7F]\", \"\").alias(\"full_name\"),\n",
    "    F.col(\"id\").alias(\"typ_industry_id\"),\n",
    "    col(\"ClientSFAURL\").alias(\"website\"),\n",
    "    F.when(F.col(\"ClientInactive\") == \"No\", 161).otherwise(162).alias(\"typ_cust_status_id\"),\n",
    "    col(\"sales_territ_id\").alias(\"sales_territory_id\"),\n",
    "    F.when(F.col(\"ClientInactive\") == \"No\", True).otherwise(False).alias(\"is_active\")\n",
    "    \n",
    ")\n",
    "\n",
    "# df_3.show()"
   ]
  },
  {
   "cell_type": "code",
   "execution_count": 320,
   "id": "de3fd036-94bd-4fed-a866-cf8042662f26",
   "metadata": {},
   "outputs": [
    {
     "data": {
      "text/plain": [
       "2005"
      ]
     },
     "execution_count": 320,
     "metadata": {},
     "output_type": "execute_result"
    }
   ],
   "source": [
    "#AGGREGATE DATA BY cust_code, full_name FILEDS\n",
    "df_aggregated = (df_3.groupBy(\"cust_code\", \"full_name\").agg(\n",
    "    max(\"typ_industry_id\").alias(\"typ_industry_id\"), \n",
    "    max(\"website\").alias(\"website\"), \n",
    "    max(\"typ_cust_status_id\").alias(\"typ_cust_status_id\"), \n",
    "    max(\"sales_territory_id\").alias(\"sales_territory_id\"), \n",
    "    first(\"is_active\").alias(\"is_active\"), \n",
    "))\n",
    "\n",
    "df_aggregated.count()"
   ]
  },
  {
   "cell_type": "code",
   "execution_count": null,
   "id": "69a28d35-09ba-4937-b940-664f7c6b4f7f",
   "metadata": {},
   "outputs": [],
   "source": []
  },
  {
   "cell_type": "code",
   "execution_count": null,
   "id": "9dd272e3-e662-4539-ab36-d3a27bb1e280",
   "metadata": {},
   "outputs": [],
   "source": [
    "#---------------------------------ORIGINAL PART3 CODE------------------------------"
   ]
  },
  {
   "cell_type": "code",
   "execution_count": 310,
   "id": "ee378584-e787-41c5-959f-ae4a3b473672",
   "metadata": {},
   "outputs": [],
   "source": [
    "# Transform Client Data #changes made\n",
    "client_df = df.select(\n",
    "    F.col(\"ClientNumber\").alias(\"cust_code\"),\n",
    "    F.regexp_replace(\"ClientName\", \"[^\\\\x00-\\\\x7F]\", \"\").alias(\"full_name\"),\n",
    "    F.lit(None).alias(\"typ_industry_id\"),#cahaged this\n",
    "    F.col(\"ClientSFAURL\").alias(\"website\"),\n",
    "    F.when(F.col(\"ClientInactive\") == \"No\", 161).otherwise(162).alias(\"typ_cust_status_id\"),\n",
    "    F.lit(None).alias(\"sales_territory_id\"),#cahaged this\n",
    "    F.when(F.col(\"ClientInactive\") == \"No\", True).otherwise(False).alias(\"is_active\")\n",
    ")"
   ]
  },
  {
   "cell_type": "code",
   "execution_count": 316,
   "id": "dde7ac85-b97a-40f9-8826-73368f11df9d",
   "metadata": {},
   "outputs": [],
   "source": [
    "# Aggregate and Load Client Data\n",
    "aggregated_client_df = client_df.groupBy(\"cust_code\", \"full_name\").agg(\n",
    "    F.max(\"typ_industry_id\").alias(\"typ_industry_id\"),\n",
    "    F.max(\"website\").alias(\"website\"),\n",
    "    F.max(\"typ_cust_status_id\").alias(\"typ_cust_status_id\"),\n",
    "    F.max(\"sales_territory_id\").alias(\"sales_territory_id\"),\n",
    "    F.first(\"is_active\").alias(\"is_active\")\n",
    ")"
   ]
  },
  {
   "cell_type": "code",
   "execution_count": 374,
   "id": "4b27bb6e-b664-475c-8e0e-af6dd653fe93",
   "metadata": {},
   "outputs": [
    {
     "name": "stdout",
     "output_type": "stream",
     "text": [
      "+-------------+--------------------+---------------+--------------------+------------------+------------------+---------+\n",
      "|    cust_code|           full_name|typ_industry_id|             website|typ_cust_status_id|sales_territory_id|is_active|\n",
      "+-------------+--------------------+---------------+--------------------+------------------+------------------+---------+\n",
      "|       170S01|         170 Systems|           NULL|                NULL|               162|              NULL|    false|\n",
      "|1ST FORMATION|1st Formations Li...|           NULL|                 tbd|               161|              NULL|     true|\n",
      "|41STPARMTER01|The 41st Paramete...|           NULL|                NULL|               162|              NULL|    false|\n",
      "|       AAMC01|Association of Am...|           NULL|                NULL|               162|              NULL|    false|\n",
      "|        ABC01|          ABC Disney|           NULL|                NULL|               162|              NULL|    false|\n",
      "|       ACBL01|American Contract...|           NULL|                NULL|               162|              NULL|    false|\n",
      "|    ACCENDI10|Accenture (UKDIRECT)|           NULL|                NULL|               162|              NULL|    false|\n",
      "|    ACCENIS10|  Accenture (UKISSI)|           NULL|                NULL|               162|              NULL|    false|\n",
      "|    ACCENIW10|  Accenture (UKISSW)|           NULL|                NULL|               162|              NULL|    false|\n",
      "|        ACE01|American Computer...|           NULL|https://na87.sale...|               162|              NULL|    false|\n",
      "|       ACSC02|Automobile Club O...|           NULL|                NULL|               162|              NULL|    false|\n",
      "|    ACTAVIS01|       Actavis, Inc.|           NULL|                NULL|               162|              NULL|    false|\n",
      "|  ACTIONKPI01|Western Financial...|           NULL|             Pending|               162|              NULL|    false|\n",
      "|     ACUITY01|              Acuity|           NULL|                NULL|               162|              NULL|    false|\n",
      "|      ADDEC10|   Adecco (UKDIRECT)|           NULL|                NULL|               162|              NULL|    false|\n",
      "|   ADELANTE01|Adelante Software...|           NULL|https://d30000000...|               162|              NULL|    false|\n",
      "|      ADENA01|Adena Service Ltd...|           NULL|                 tbd|               161|              NULL|     true|\n",
      "|      ADOBE01|       Adobe Systems|           NULL|                NULL|               162|              NULL|    false|\n",
      "|        ADP01|Open Dealer Excha...|           NULL|                NULL|               162|              NULL|    false|\n",
      "|    ADVANCE01|  Advance Auto Parts|           NULL|                NULL|               161|              NULL|     true|\n",
      "+-------------+--------------------+---------------+--------------------+------------------+------------------+---------+\n",
      "only showing top 20 rows\n",
      "\n"
     ]
    }
   ],
   "source": [
    "aggregated_client_df.show()"
   ]
  },
  {
   "cell_type": "code",
   "execution_count": null,
   "id": "f6663e56-93b7-4641-9590-046efc1fcff6",
   "metadata": {},
   "outputs": [],
   "source": [
    "# aggregated_client_df.write.jdbc(jdbc_url, \"projector_customer_tmp\", mode=\"overwrite\", properties=connection_properties)"
   ]
  },
  {
   "cell_type": "code",
   "execution_count": null,
   "id": "8c05854a-b49d-45f0-9dbf-01e2020dd361",
   "metadata": {},
   "outputs": [],
   "source": []
  },
  {
   "cell_type": "code",
   "execution_count": 364,
   "id": "e090037e-dd7b-4b6c-a01f-9e862eebda50",
   "metadata": {},
   "outputs": [],
   "source": [
    "# -------------------------------CALLING BELOW 2 STORED PROCEDURES AFTER PART 3-----------------------------"
   ]
  },
  {
   "cell_type": "code",
   "execution_count": null,
   "id": "b7b4d14d-e833-44ac-8ec5-c21b29d8cfb0",
   "metadata": {},
   "outputs": [],
   "source": [
    "conn = mysql.connector.connect(\n",
    "    host=context['mysql_server'],\n",
    "    user=context['mysql_user'],\n",
    "    password=context['mysql_password'],\n",
    "    database=context['mysql_database']\n",
    ") \n",
    "\n",
    "cursor = conn.cursor()\n",
    "cursor.callproc('ProcessProjectorAccounts')\n",
    "conn.commit()\n",
    "\n",
    "#--------------------------UNCOMMENT BELOW SNIPPET IF WANT TO SEE DATA RETURNED BY PROCEDURE-----------------\n",
    "\n",
    "# first_result = True\n",
    "# for result in cursor.stored_results():\n",
    "#     if first_result:\n",
    "        \n",
    "#         rows = result.fetchall()\n",
    "#         columns = [desc[0] for desc in result.description]  \n",
    "\n",
    "#         df_ProcessProjectorAccounts_proc = spark.createDataFrame(rows, schema=columns)\n",
    "#         df_ProcessProjectorAccounts_proc.show()\n",
    "#         first_result = False \n",
    "#     else:\n",
    "#         break  \n",
    "\n",
    "cursor.close()\n",
    "conn.close()"
   ]
  },
  {
   "cell_type": "code",
   "execution_count": 436,
   "id": "8c10e981-8de3-4ae6-8296-2fd2d790ac3e",
   "metadata": {},
   "outputs": [
    {
     "name": "stdout",
     "output_type": "stream",
     "text": [
      "+--------+--------------------+\n",
      "|      id|             website|\n",
      "+--------+--------------------+\n",
      "| 1551753|https://d30000000...|\n",
      "| 1552059|https://d30000000...|\n",
      "| 1552564|https://na2.sales...|\n",
      "| 1552593|https://d30000000...|\n",
      "| 1956839|https://na2.sales...|\n",
      "| 2540690|https://na2.sales...|\n",
      "| 2612051|https://na2.sales...|\n",
      "| 2623413|https://na87.sale...|\n",
      "| 2853559|https://na2.sales...|\n",
      "| 2853561|https://na2.sales...|\n",
      "| 3284412|https://na87.sale...|\n",
      "| 3667922|https://na87.sale...|\n",
      "|15972987|https://na87.sale...|\n",
      "|26087285|https://na87.sale...|\n",
      "|27730999|https://na87.sale...|\n",
      "|29304173|https://na87.sale...|\n",
      "|36244913|https://na87.sale...|\n",
      "|40524222|https://na87.ligh...|\n",
      "|41317099|https://na87.sale...|\n",
      "|42255432|https://na87.ligh...|\n",
      "+--------+--------------------+\n",
      "only showing top 20 rows\n",
      "\n"
     ]
    }
   ],
   "source": [
    "conn = mysql.connector.connect(\n",
    "    host=context['mysql_server'],\n",
    "    user=context['mysql_user'],\n",
    "    password=context['mysql_password'],\n",
    "    database=context['mysql_database']\n",
    ") \n",
    "\n",
    "cursor = conn.cursor()\n",
    "cursor.callproc('SyncCustomersWithProspects')\n",
    "conn.commit()\n",
    "\n",
    "#--------------------------UNCOMMENT BELOW SNIPPET IF WANT TO SEE DATA RETURNED BY PROCEDURE-------------------\n",
    "\n",
    "# first_result = True\n",
    "# for result in cursor.stored_results():\n",
    "#     if first_result:\n",
    "        \n",
    "#         rows = result.fetchall()\n",
    "#         columns = [desc[0] for desc in result.description]  \n",
    "\n",
    "#         df_SyncCustomersWithProspects_proc = spark.createDataFrame(rows, schema=columns)\n",
    "#         df_SyncCustomersWithProspects_proc.show()\n",
    "#         first_result = False \n",
    "#     else:\n",
    "#         break  \n",
    "\n",
    "\n",
    "cursor.close()\n",
    "conn.close()"
   ]
  },
  {
   "cell_type": "code",
   "execution_count": null,
   "id": "a37c77db-2685-4cc5-b37d-576c2acc8b0d",
   "metadata": {},
   "outputs": [],
   "source": []
  },
  {
   "cell_type": "code",
   "execution_count": null,
   "id": "d73f7c0f-4854-4ace-b92e-d8b606b1957c",
   "metadata": {},
   "outputs": [],
   "source": [
    "#---------------------------------------------PART 4 --------------------------------------------"
   ]
  },
  {
   "cell_type": "code",
   "execution_count": 369,
   "id": "79c8f0e5-f3d7-410a-814d-b4b3d2f1fd17",
   "metadata": {},
   "outputs": [],
   "source": [
    "\n",
    "customer_division_df = df.groupBy(\"ClientNumber\").agg(\n",
    "    F.first(\"ClientName\").alias(\"ClientName\"),\n",
    "    F.first(\"ClientIndustry\").alias(\"ClientIndustry\"),\n",
    "    F.first(\"ClientSFAURL\").alias(\"ClientSFAURL\"),\n",
    "    F.first(\"ClientInactive\").alias(\"ClientInactive\"),\n",
    "    F.first(\"ProjectLocation\").alias(\"ProjectLocation\")\n",
    ")\n"
   ]
  },
  {
   "cell_type": "code",
   "execution_count": 370,
   "id": "b2b01874-d62d-4c53-9170-faf8bf414808",
   "metadata": {},
   "outputs": [],
   "source": [
    "# changes made (commentted last 4)\n",
    "copyOfcustDivs = customer_division_df.select(\n",
    "    F.lit(None).alias(\"id\"),\n",
    "    F.lit(\"Customer\").alias(\"object_type_code\"),\n",
    "    F.when(F.col(\"ClientInactive\") == \"No\", False).otherwise(True).alias(\"is_active\"),\n",
    "    F.lit(None).alias(\"date_created\"),\n",
    "    F.lit(None).alias(\"last_updated\"),\n",
    "    F.lit(\"\").alias(\"created_by\"),\n",
    "    F.lit(\"\").alias(\"last_updated_by\"),\n",
    "    F.lit(1).alias(\"created_by_id\"),\n",
    "    F.lit(1).alias(\"last_updated_by_id\"),\n",
    "    F.lit(\"UNKNOWN\").alias(\"DivisionName\"),\n",
    "    F.lit(\"UNKNOWN\").alias(\"DivisionDescription\"),\n",
    "    F.lit(\"UNKNOWN\").alias(\"DivisionAddress\"),\n",
    "    F.lit(\"UNKNOWN\").alias(\"DivisionContact\"),\n",
    "    F.col(\"ClientNumber\").alias(\"CustomerId\")\n",
    "    # F.regexp_replace(\"ClientName\", \"[^\\\\x00-\\\\x7F]\", \"\").alias(\"division_name\"),\n",
    "    # F.regexp_replace(\"ClientIndustry\", \"[^\\\\x00-\\\\x7F]\", \"\").alias(\"industry\"),\n",
    "    # F.regexp_replace(\"ClientSFAURL\", \"[^\\\\x00-\\\\x7F]\", \"\").alias(\"website\"),\n",
    "    # F.regexp_replace(\"ProjectLocation\", \"[^\\\\x00-\\\\x7F]\", \"\").alias(\"location\")\n",
    ")"
   ]
  },
  {
   "cell_type": "code",
   "execution_count": null,
   "id": "51e56f5b-9e53-4bb8-92f9-131f8e04992f",
   "metadata": {},
   "outputs": [],
   "source": [
    "#----------------REST STEPS ARE MISSING AFTER THIS IN  FLIT 2580------------------------------"
   ]
  },
  {
   "cell_type": "code",
   "execution_count": null,
   "id": "7a071199-c977-469b-8317-b2d38c539996",
   "metadata": {},
   "outputs": [],
   "source": [
    "# Insert and Map Division Data\n",
    "# Assuming `copyOfcustDivs` is a DataFrame with the necessary data\n",
    "copyOfcustDivs.write.jdbc(jdbc_url, \"base_domains\", mode=\"append\", properties=connection_properties)"
   ]
  },
  {
   "cell_type": "code",
   "execution_count": null,
   "id": "cdd89cd8-a539-44f8-bf01-2be4d48b4f3e",
   "metadata": {},
   "outputs": [],
   "source": []
  },
  {
   "cell_type": "code",
   "execution_count": null,
   "id": "db6212fd-44ee-4a52-9c65-b962bb33353b",
   "metadata": {},
   "outputs": [],
   "source": []
  },
  {
   "cell_type": "code",
   "execution_count": null,
   "id": "9a62da72-41b7-4082-9017-9f6eb804d55b",
   "metadata": {},
   "outputs": [],
   "source": [
    "#-------------------------THIS IS TAKEN FROM FLIT 2581 FOR PART 4----------------------------------"
   ]
  },
  {
   "cell_type": "code",
   "execution_count": 437,
   "id": "8134f2c5-727a-48e8-b1b9-111975009670",
   "metadata": {},
   "outputs": [
    {
     "name": "stdout",
     "output_type": "stream",
     "text": [
      "+-------------+--------------------+--------------------+--------------------+--------------+---------------+\n",
      "| ClientNumber|          ClientName|      ClientIndustry|        ClientSFAURL|ClientInactive|ProjectLocation|\n",
      "+-------------+--------------------+--------------------+--------------------+--------------+---------------+\n",
      "|       170S01|         170 Systems|             Finance|                NULL|           Yes|             US|\n",
      "|1ST FORMATION|1st Formations Li...|               Other|                 tbd|            No|             UK|\n",
      "|41STPARMTER01|The 41st Paramete...|   Computer Services|                NULL|           Yes|             US|\n",
      "|       AAMC01|Association of Am...|           Education|                NULL|           Yes|             US|\n",
      "|        ABC01|          ABC Disney|         Media & Ent|                NULL|           Yes|             US|\n",
      "|       ACBL01|American Contract...|         Media & Ent|                NULL|           Yes|             US|\n",
      "|    ACCENDI10|Accenture (UKDIRECT)|   Computer Services|                NULL|           Yes|             UK|\n",
      "|    ACCENIS10|  Accenture (UKISSI)|   Computer Services|                NULL|           Yes|             UK|\n",
      "|    ACCENIW10|  Accenture (UKISSW)|   Computer Services|                NULL|           Yes|             UK|\n",
      "|        ACE01|American Computer...|   Telecommunication|https://na87.sale...|           Yes|             US|\n",
      "|       ACSC02|Automobile Club O...|           Insurance|                NULL|           Yes|             US|\n",
      "|    ACTAVIS01|       Actavis, Inc.|         Health Care|                NULL|           Yes|             UK|\n",
      "|  ACTIONKPI01|Western Financial...|           Insurance|             Pending|           Yes|             US|\n",
      "|     ACUITY01|              Acuity|           Insurance|                NULL|           Yes|             US|\n",
      "|      ADDEC10|   Adecco (UKDIRECT)|Business / PS Ser...|                NULL|           Yes|             US|\n",
      "|   ADELANTE01|Adelante Software...|             Finance|https://d30000000...|           Yes|             UK|\n",
      "|      ADENA01|Adena Service Ltd...|              Retail|                 tbd|            No|             UK|\n",
      "|      ADOBE01|       Adobe Systems|   Computer Services|                NULL|           Yes|             US|\n",
      "|        ADP01|Open Dealer Excha...|             Finance|                NULL|           Yes|             US|\n",
      "|    ADVANCE01|  Advance Auto Parts|              Retail|                NULL|            No|             US|\n",
      "+-------------+--------------------+--------------------+--------------------+--------------+---------------+\n",
      "only showing top 20 rows\n",
      "\n"
     ]
    }
   ],
   "source": [
    "customer_division_df = df.select(\"ClientNumber\", \"ClientName\", \"ClientIndustry\", \"ClientSFAURL\", \"ClientInactive\", \"ProjectLocation\")\n",
    "\n",
    "# Aggregate Customer Division Data\n",
    "aggregated_customer_division_df = customer_division_df.groupBy(\"ClientNumber\").agg(\n",
    "    first(\"ClientName\").alias(\"ClientName\"),\n",
    "    first(\"ClientIndustry\").alias(\"ClientIndustry\"),\n",
    "    first(\"ClientSFAURL\").alias(\"ClientSFAURL\"),\n",
    "    first(\"ClientInactive\").alias(\"ClientInactive\"),\n",
    "    first(\"ProjectLocation\").alias(\"ProjectLocation\")\n",
    ")\n",
    "aggregated_customer_division_df.show()\n"
   ]
  },
  {
   "cell_type": "code",
   "execution_count": 389,
   "id": "3591fde0-28b9-407a-8f8c-57eb00a661ce",
   "metadata": {},
   "outputs": [],
   "source": [
    "# Transform Customer Division Data\n",
    "\n",
    "customer_division_transformed_df = aggregated_customer_division_df.select(\n",
    "    F.col(\"ClientName\").alias(\"DivisionName\"),\n",
    "    F.col(\"ClientNumber\").alias(\"ClientNumber\"),\n",
    "    F.col(\"ClientIndustry\").alias(\"DivisionDescription\"),\n",
    "    F.col(\"ClientSFAURL\").alias(\"DivisionAddress\"),\n",
    "    F.col(\"ClientInactive\").alias(\"DivisionContact\")\n",
    ")"
   ]
  },
  {
   "cell_type": "code",
   "execution_count": 390,
   "id": "142247ce-3dcc-4d0c-80fc-6778673fcb2e",
   "metadata": {},
   "outputs": [],
   "source": [
    "customer_lookup_df = spark.read.jdbc(url, \"customers\", properties=mysql_properties) \\\n",
    "    .select(\"id\", \"cust_code\")\n"
   ]
  },
  {
   "cell_type": "code",
   "execution_count": 393,
   "id": "a4d03178-4eab-4ecd-8cf3-4a1b9a9a971a",
   "metadata": {},
   "outputs": [],
   "source": [
    "customer_division_transformed_df = customer_division_transformed_df \\\n",
    "    .join(customer_lookup_df, customer_division_transformed_df.ClientNumber == customer_lookup_df.cust_code, \"left\") \\\n",
    "    .select(\"DivisionName\", \"DivisionDescription\", \"DivisionAddress\", \"DivisionContact\", col(\"id\").alias(\"CustomerId\")\n",
    "           )"
   ]
  },
  {
   "cell_type": "code",
   "execution_count": 394,
   "id": "eda6acf2-da14-4611-a279-a99a8170e4f3",
   "metadata": {},
   "outputs": [
    {
     "name": "stdout",
     "output_type": "stream",
     "text": [
      "+--------------------+--------------------+--------------------+---------------+----------+\n",
      "|        DivisionName| DivisionDescription|     DivisionAddress|DivisionContact|CustomerId|\n",
      "+--------------------+--------------------+--------------------+---------------+----------+\n",
      "|         170 Systems|             Finance|                NULL|            Yes|   1551272|\n",
      "|1st Formations Li...|               Other|                 tbd|             No| 128283684|\n",
      "|The 41st Paramete...|   Computer Services|                NULL|            Yes|   1551273|\n",
      "|Association of Am...|           Education|                NULL|            Yes|   1551274|\n",
      "|          ABC Disney|         Media & Ent|                NULL|            Yes|   1551275|\n",
      "|American Contract...|         Media & Ent|                NULL|            Yes|   1551276|\n",
      "|Accenture (UKDIRECT)|   Computer Services|                NULL|            Yes|   1551277|\n",
      "|  Accenture (UKISSI)|   Computer Services|                NULL|            Yes|   1551278|\n",
      "|  Accenture (UKISSW)|   Computer Services|                NULL|            Yes|   1551279|\n",
      "|American Computer...|   Telecommunication|https://na87.sale...|            Yes|  29063316|\n",
      "|Automobile Club O...|           Insurance|                NULL|            Yes|   1551280|\n",
      "|       Actavis, Inc.|         Health Care|                NULL|            Yes|   1551282|\n",
      "|Western Financial...|           Insurance|             Pending|            Yes| 130723113|\n",
      "|              Acuity|           Insurance|                NULL|            Yes|   1551283|\n",
      "|   Adecco (UKDIRECT)|Business / PS Ser...|                NULL|            Yes|   1551284|\n",
      "|Adelante Software...|             Finance|https://d30000000...|            Yes| 112042055|\n",
      "|Adena Service Ltd...|              Retail|                 tbd|             No|  63975211|\n",
      "|       Adobe Systems|   Computer Services|                NULL|            Yes|   1551285|\n",
      "|Open Dealer Excha...|             Finance|                NULL|            Yes|   1551286|\n",
      "|  Advance Auto Parts|              Retail|                NULL|             No|   1551287|\n",
      "+--------------------+--------------------+--------------------+---------------+----------+\n",
      "only showing top 20 rows\n",
      "\n"
     ]
    }
   ],
   "source": [
    "customer_division_transformed_df.show()"
   ]
  },
  {
   "cell_type": "code",
   "execution_count": null,
   "id": "67904d29-7464-42c3-bffb-717fdc6142e6",
   "metadata": {},
   "outputs": [],
   "source": [
    "# Insert Customer Divisions into Base Domains\n",
    "# customer_division_transformed_df.write.jdbc(mysql_url, \"base_domains\", mode=\"append\", properties=mysql_properties)\n"
   ]
  },
  {
   "cell_type": "code",
   "execution_count": null,
   "id": "ff5eb035-126f-4c8a-827a-48d72e5ce2bf",
   "metadata": {},
   "outputs": [],
   "source": [
    "#------------------NOT SURE ABOUT last_insert_id_df(refer below step for temp last_insert_id_df)----------------------------------\n",
    "\n",
    "# Get Last Insert ID \n",
    "last_insert_id_df = spark.sql(\"SELECT LAST_INSERT_ID() as last_insert_id\")"
   ]
  },
  {
   "cell_type": "code",
   "execution_count": 403,
   "id": "829df506-f1e9-46d9-9a78-4bbfab15fc4e",
   "metadata": {},
   "outputs": [],
   "source": [
    "# --------AS WE ARE NOT SURE ABOUT last_insert_id_df ,FOR NOW CONSIDERING IT AS 9999-----\n",
    "\n",
    "last_insert_id_df = spark.createDataFrame([Row(id='999')])"
   ]
  },
  {
   "cell_type": "code",
   "execution_count": 404,
   "id": "8000820b-1be4-4ec1-82e8-11678fde760e",
   "metadata": {},
   "outputs": [],
   "source": [
    "# Map Last Insert ID to Division Data\n",
    "division_data_df = customer_division_transformed_df.crossJoin(last_insert_id_df)\n",
    "\n"
   ]
  },
  {
   "cell_type": "code",
   "execution_count": 405,
   "id": "bae0b9e6-b956-40b8-ac59-fa9f48bc2f72",
   "metadata": {},
   "outputs": [
    {
     "name": "stdout",
     "output_type": "stream",
     "text": [
      "+--------------------+--------------------+--------------------+---------------+----------+---+\n",
      "|        DivisionName| DivisionDescription|     DivisionAddress|DivisionContact|CustomerId| id|\n",
      "+--------------------+--------------------+--------------------+---------------+----------+---+\n",
      "|         170 Systems|             Finance|                NULL|            Yes|   1551272|999|\n",
      "|1st Formations Li...|               Other|                 tbd|             No| 128283684|999|\n",
      "|The 41st Paramete...|   Computer Services|                NULL|            Yes|   1551273|999|\n",
      "|Association of Am...|           Education|                NULL|            Yes|   1551274|999|\n",
      "|          ABC Disney|         Media & Ent|                NULL|            Yes|   1551275|999|\n",
      "|American Contract...|         Media & Ent|                NULL|            Yes|   1551276|999|\n",
      "|Accenture (UKDIRECT)|   Computer Services|                NULL|            Yes|   1551277|999|\n",
      "|  Accenture (UKISSI)|   Computer Services|                NULL|            Yes|   1551278|999|\n",
      "|  Accenture (UKISSW)|   Computer Services|                NULL|            Yes|   1551279|999|\n",
      "|American Computer...|   Telecommunication|https://na87.sale...|            Yes|  29063316|999|\n",
      "|Automobile Club O...|           Insurance|                NULL|            Yes|   1551280|999|\n",
      "|       Actavis, Inc.|         Health Care|                NULL|            Yes|   1551282|999|\n",
      "|Western Financial...|           Insurance|             Pending|            Yes| 130723113|999|\n",
      "|              Acuity|           Insurance|                NULL|            Yes|   1551283|999|\n",
      "|   Adecco (UKDIRECT)|Business / PS Ser...|                NULL|            Yes|   1551284|999|\n",
      "|Adelante Software...|             Finance|https://d30000000...|            Yes| 112042055|999|\n",
      "|Adena Service Ltd...|              Retail|                 tbd|             No|  63975211|999|\n",
      "|       Adobe Systems|   Computer Services|                NULL|            Yes|   1551285|999|\n",
      "|Open Dealer Excha...|             Finance|                NULL|            Yes|   1551286|999|\n",
      "|  Advance Auto Parts|              Retail|                NULL|             No|   1551287|999|\n",
      "+--------------------+--------------------+--------------------+---------------+----------+---+\n",
      "only showing top 20 rows\n",
      "\n"
     ]
    }
   ],
   "source": [
    "division_data_df.show()"
   ]
  },
  {
   "cell_type": "code",
   "execution_count": null,
   "id": "4f867489-ad24-4f4a-9573-092570403eb4",
   "metadata": {},
   "outputs": [],
   "source": [
    "# Insert or Update Divisions\n",
    "# division_data_df.write.jdbc(mysql_url, \"divisions\", mode=\"append\", properties=mysql_properties)"
   ]
  },
  {
   "cell_type": "code",
   "execution_count": null,
   "id": "37ae2ece-3786-417e-b1bd-3c274d65d062",
   "metadata": {},
   "outputs": [],
   "source": []
  }
 ],
 "metadata": {
  "kernelspec": {
   "display_name": "Python 3 (ipykernel)",
   "language": "python",
   "name": "python3"
  },
  "language_info": {
   "codemirror_mode": {
    "name": "ipython",
    "version": 3
   },
   "file_extension": ".py",
   "mimetype": "text/x-python",
   "name": "python",
   "nbconvert_exporter": "python",
   "pygments_lexer": "ipython3",
   "version": "3.12.3"
  }
 },
 "nbformat": 4,
 "nbformat_minor": 5
}
